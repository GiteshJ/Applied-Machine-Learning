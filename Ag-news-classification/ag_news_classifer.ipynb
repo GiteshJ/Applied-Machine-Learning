{
  "nbformat": 4,
  "nbformat_minor": 0,
  "metadata": {
    "colab": {
      "name": "ag_news_classifer",
      "version": "0.3.2",
      "provenance": [],
      "collapsed_sections": []
    },
    "kernelspec": {
      "name": "python3",
      "display_name": "Python 3"
    },
    "accelerator": "GPU"
  },
  "cells": [
    {
      "metadata": {
        "id": "R1ovbY8W_x2y",
        "colab_type": "text"
      },
      "cell_type": "markdown",
      "source": [
        "# About the approach "
      ]
    },
    {
      "metadata": {
        "id": "FjS5Y2Ia_06p",
        "colab_type": "text"
      },
      "cell_type": "markdown",
      "source": [
        "The first thought to deal with the problem was to go with the LSTMs and deep learning,\n",
        "but the considering the time required by deep learning models to train, another approach was required. Also the text contained a lot of words not available in public word embeddings \n",
        "and training the word embeddings is also time consuming\n",
        "The technique I used consisted of the following steps:\n",
        "1. **Tf-idf features:** Since the data is text, Tf-idf was good choice to generate features and \n",
        "   also these features in sparse form are very efficient to manage and use, also\n",
        "   they an do not consume a lot of memory. Generated 1,00,000 features for each of heading and description\n",
        "2. **Linear model was used:** Since the total feature was now about 2,00,000, the most time efficient models are the linear models. Boosted trees and \n",
        "   non linear models consume a lot of time to run.\n",
        "3. **Ridge classifier was used** - Ridge was used since it reduces the complexity of the model by coefficient shrinkage,\n",
        "   also help with regularization and trains faster.\n",
        "4. **Time and Memory efficient:** The entire code runs in less than 10 mins, does not consume enough RAM and gives an accuracy of 92.2%."
      ]
    },
    {
      "metadata": {
        "id": "VanqRtgC3Xdp",
        "colab_type": "text"
      },
      "cell_type": "markdown",
      "source": [
        "**Connecting colab to google drive**\n",
        "\n"
      ]
    },
    {
      "metadata": {
        "id": "cIxRFM-Rz2_-",
        "colab_type": "code",
        "colab": {}
      },
      "cell_type": "code",
      "source": [
        "# Install a Drive FUSE wrapper.\n",
        "# https://github.com/astrada/google-drive-ocamlfuse\n",
        "!apt-get install -y -qq software-properties-common python-software-properties module-init-tools\n",
        "!add-apt-repository -y ppa:alessandro-strada/ppa 2>&1 > /dev/null\n",
        "!apt-get update -qq 2>&1 > /dev/null\n",
        "!apt-get -y install -qq google-drive-ocamlfuse fuse\n",
        "\n",
        "# Generate auth tokens for Colab\n",
        "from google.colab import auth\n",
        "auth.authenticate_user()\n",
        "\n",
        "# Generate creds for the Drive FUSE library.\n",
        "from oauth2client.client import GoogleCredentials\n",
        "creds = GoogleCredentials.get_application_default()\n",
        "import getpass\n",
        "!google-drive-ocamlfuse -headless -id={creds.client_id} -secret={creds.client_secret} < /dev/null 2>&1 | grep URL\n",
        "vcode = getpass.getpass()\n",
        "!echo {vcode} | google-drive-ocamlfuse -headless -id={creds.client_id} -secret={creds.client_secret}\n",
        "\n",
        "# Create a directory and mount Google Drive using that directory.\n",
        "!mkdir -p drive\n",
        "!google-drive-ocamlfuse drive"
      ],
      "execution_count": 0,
      "outputs": []
    },
    {
      "metadata": {
        "id": "ZQXDrDED3_m2",
        "colab_type": "text"
      },
      "cell_type": "markdown",
      "source": [
        "** Importing the required dependencies **"
      ]
    },
    {
      "metadata": {
        "trusted": true,
        "_uuid": "808fac53a9ef0ce10f67924db54b5f13228cc03f",
        "id": "DhKDcy9Ozytq",
        "colab_type": "code",
        "colab": {}
      },
      "cell_type": "code",
      "source": [
        "import os\n",
        "import numpy as np\n",
        "import pandas as pd\n",
        "from matplotlib import pyplot as plt\n",
        "from sklearn.linear_model import RidgeClassifier\n",
        "from sklearn.model_selection import cross_val_score\n",
        "from sklearn.feature_extraction.text import TfidfVectorizer\n",
        "from sklearn.metrics import mean_absolute_error\n",
        "from scipy.sparse import csr_matrix, hstack\n",
        "from sklearn.linear_model import Ridge\n",
        "from sklearn.preprocessing import OneHotEncoder\n",
        "from sklearn.preprocessing import LabelEncoder\n",
        "from sklearn.metrics import *\n",
        "import warnings\n",
        "\n",
        "warnings.filterwarnings('ignore')"
      ],
      "execution_count": 0,
      "outputs": []
    },
    {
      "metadata": {
        "id": "iae_Eyzi4FfH",
        "colab_type": "text"
      },
      "cell_type": "markdown",
      "source": [
        "** Loading the data **"
      ]
    },
    {
      "metadata": {
        "trusted": true,
        "_uuid": "aa684d9b6d028a545b0601802603a9ee2fce317a",
        "id": "hbWb6R1izyt3",
        "colab_type": "code",
        "colab": {
          "base_uri": "https://localhost:8080/",
          "height": 51
        },
        "outputId": "b3bbae8d-3ea5-4735-95b1-14d58554e289"
      },
      "cell_type": "code",
      "source": [
        "train = pd.read_csv(\"drive/ag_news_csv/train.csv\", names = [\"label\",\"heading\",\"description\"])\n",
        "test = pd.read_csv(\"drive/ag_news_csv/test.csv\",names = [\"label\",\"heading\",\"description\"])\n",
        "print(train.shape)\n",
        "print(test.shape)"
      ],
      "execution_count": 6,
      "outputs": [
        {
          "output_type": "stream",
          "text": [
            "(120000, 3)\n",
            "(7600, 3)\n"
          ],
          "name": "stdout"
        }
      ]
    },
    {
      "metadata": {
        "trusted": true,
        "_uuid": "1021c2470aa1b272ddbfa20a309622ded859dfbe",
        "id": "irTWclDWzyt8",
        "colab_type": "code",
        "colab": {
          "base_uri": "https://localhost:8080/",
          "height": 204
        },
        "outputId": "1515ca6f-764a-48b7-ce01-eda8aec57339"
      },
      "cell_type": "code",
      "source": [
        "test.head(5)"
      ],
      "execution_count": 7,
      "outputs": [
        {
          "output_type": "execute_result",
          "data": {
            "text/html": [
              "<div>\n",
              "<style scoped>\n",
              "    .dataframe tbody tr th:only-of-type {\n",
              "        vertical-align: middle;\n",
              "    }\n",
              "\n",
              "    .dataframe tbody tr th {\n",
              "        vertical-align: top;\n",
              "    }\n",
              "\n",
              "    .dataframe thead th {\n",
              "        text-align: right;\n",
              "    }\n",
              "</style>\n",
              "<table border=\"1\" class=\"dataframe\">\n",
              "  <thead>\n",
              "    <tr style=\"text-align: right;\">\n",
              "      <th></th>\n",
              "      <th>label</th>\n",
              "      <th>heading</th>\n",
              "      <th>description</th>\n",
              "    </tr>\n",
              "  </thead>\n",
              "  <tbody>\n",
              "    <tr>\n",
              "      <th>0</th>\n",
              "      <td>3</td>\n",
              "      <td>Fears for T N pension after talks</td>\n",
              "      <td>Unions representing workers at Turner   Newall...</td>\n",
              "    </tr>\n",
              "    <tr>\n",
              "      <th>1</th>\n",
              "      <td>4</td>\n",
              "      <td>The Race is On: Second Private Team Sets Launc...</td>\n",
              "      <td>SPACE.com - TORONTO, Canada -- A second\\team o...</td>\n",
              "    </tr>\n",
              "    <tr>\n",
              "      <th>2</th>\n",
              "      <td>4</td>\n",
              "      <td>Ky. Company Wins Grant to Study Peptides (AP)</td>\n",
              "      <td>AP - A company founded by a chemistry research...</td>\n",
              "    </tr>\n",
              "    <tr>\n",
              "      <th>3</th>\n",
              "      <td>4</td>\n",
              "      <td>Prediction Unit Helps Forecast Wildfires (AP)</td>\n",
              "      <td>AP - It's barely dawn when Mike Fitzpatrick st...</td>\n",
              "    </tr>\n",
              "    <tr>\n",
              "      <th>4</th>\n",
              "      <td>4</td>\n",
              "      <td>Calif. Aims to Limit Farm-Related Smog (AP)</td>\n",
              "      <td>AP - Southern California's smog-fighting agenc...</td>\n",
              "    </tr>\n",
              "  </tbody>\n",
              "</table>\n",
              "</div>"
            ],
            "text/plain": [
              "   label                                            heading  \\\n",
              "0      3                  Fears for T N pension after talks   \n",
              "1      4  The Race is On: Second Private Team Sets Launc...   \n",
              "2      4      Ky. Company Wins Grant to Study Peptides (AP)   \n",
              "3      4      Prediction Unit Helps Forecast Wildfires (AP)   \n",
              "4      4        Calif. Aims to Limit Farm-Related Smog (AP)   \n",
              "\n",
              "                                         description  \n",
              "0  Unions representing workers at Turner   Newall...  \n",
              "1  SPACE.com - TORONTO, Canada -- A second\\team o...  \n",
              "2  AP - A company founded by a chemistry research...  \n",
              "3  AP - It's barely dawn when Mike Fitzpatrick st...  \n",
              "4  AP - Southern California's smog-fighting agenc...  "
            ]
          },
          "metadata": {
            "tags": []
          },
          "execution_count": 7
        }
      ]
    },
    {
      "metadata": {
        "id": "tFuUINg12raO",
        "colab_type": "code",
        "colab": {
          "base_uri": "https://localhost:8080/",
          "height": 204
        },
        "outputId": "6a03c1d4-5f35-4adc-9619-dc62b319c6b8"
      },
      "cell_type": "code",
      "source": [
        "train.head(5)"
      ],
      "execution_count": 8,
      "outputs": [
        {
          "output_type": "execute_result",
          "data": {
            "text/html": [
              "<div>\n",
              "<style scoped>\n",
              "    .dataframe tbody tr th:only-of-type {\n",
              "        vertical-align: middle;\n",
              "    }\n",
              "\n",
              "    .dataframe tbody tr th {\n",
              "        vertical-align: top;\n",
              "    }\n",
              "\n",
              "    .dataframe thead th {\n",
              "        text-align: right;\n",
              "    }\n",
              "</style>\n",
              "<table border=\"1\" class=\"dataframe\">\n",
              "  <thead>\n",
              "    <tr style=\"text-align: right;\">\n",
              "      <th></th>\n",
              "      <th>label</th>\n",
              "      <th>heading</th>\n",
              "      <th>description</th>\n",
              "    </tr>\n",
              "  </thead>\n",
              "  <tbody>\n",
              "    <tr>\n",
              "      <th>0</th>\n",
              "      <td>3</td>\n",
              "      <td>Wall St. Bears Claw Back Into the Black (Reuters)</td>\n",
              "      <td>Reuters - Short-sellers, Wall Street's dwindli...</td>\n",
              "    </tr>\n",
              "    <tr>\n",
              "      <th>1</th>\n",
              "      <td>3</td>\n",
              "      <td>Carlyle Looks Toward Commercial Aerospace (Reu...</td>\n",
              "      <td>Reuters - Private investment firm Carlyle Grou...</td>\n",
              "    </tr>\n",
              "    <tr>\n",
              "      <th>2</th>\n",
              "      <td>3</td>\n",
              "      <td>Oil and Economy Cloud Stocks' Outlook (Reuters)</td>\n",
              "      <td>Reuters - Soaring crude prices plus worries\\ab...</td>\n",
              "    </tr>\n",
              "    <tr>\n",
              "      <th>3</th>\n",
              "      <td>3</td>\n",
              "      <td>Iraq Halts Oil Exports from Main Southern Pipe...</td>\n",
              "      <td>Reuters - Authorities have halted oil export\\f...</td>\n",
              "    </tr>\n",
              "    <tr>\n",
              "      <th>4</th>\n",
              "      <td>3</td>\n",
              "      <td>Oil prices soar to all-time record, posing new...</td>\n",
              "      <td>AFP - Tearaway world oil prices, toppling reco...</td>\n",
              "    </tr>\n",
              "  </tbody>\n",
              "</table>\n",
              "</div>"
            ],
            "text/plain": [
              "   label                                            heading  \\\n",
              "0      3  Wall St. Bears Claw Back Into the Black (Reuters)   \n",
              "1      3  Carlyle Looks Toward Commercial Aerospace (Reu...   \n",
              "2      3    Oil and Economy Cloud Stocks' Outlook (Reuters)   \n",
              "3      3  Iraq Halts Oil Exports from Main Southern Pipe...   \n",
              "4      3  Oil prices soar to all-time record, posing new...   \n",
              "\n",
              "                                         description  \n",
              "0  Reuters - Short-sellers, Wall Street's dwindli...  \n",
              "1  Reuters - Private investment firm Carlyle Grou...  \n",
              "2  Reuters - Soaring crude prices plus worries\\ab...  \n",
              "3  Reuters - Authorities have halted oil export\\f...  \n",
              "4  AFP - Tearaway world oil prices, toppling reco...  "
            ]
          },
          "metadata": {
            "tags": []
          },
          "execution_count": 8
        }
      ]
    },
    {
      "metadata": {
        "id": "n4mfeas73EF_",
        "colab_type": "text"
      },
      "cell_type": "markdown",
      "source": [
        "** Removing '\\n' which was added for every newline and (\"\") which was added for every (\") **"
      ]
    },
    {
      "metadata": {
        "trusted": true,
        "_uuid": "858a83e755ba070b2c063bc2a8b0e32041be9f62",
        "id": "oNfWpBxMzyuA",
        "colab_type": "code",
        "colab": {}
      },
      "cell_type": "code",
      "source": [
        "train[\"description\"] = train[\"description\"].replace('\\n',' ').replace('\"\"',' ')\n",
        "test[\"description\"] = test[\"description\"].replace('\\n',' ').replace('\"\"',' ')"
      ],
      "execution_count": 0,
      "outputs": []
    },
    {
      "metadata": {
        "_uuid": "d1e7e52b2b9075bcbf22d9a141f6d10c24d42b4b",
        "id": "a1MTQIxLzyuE",
        "colab_type": "text"
      },
      "cell_type": "markdown",
      "source": [
        "**Adding the following groups of features:**\n",
        "    - Tf-Idf with news description (ngram_range=(1, 2), max_features=100000)\n",
        "    - Tf-Idf with news heading (ngram_range=(1, 2), max_features=100000 )"
      ]
    },
    {
      "metadata": {
        "trusted": true,
        "_uuid": "aa96aa6cb344b4765ec5fde87592c5a5a5fd4b69",
        "id": "FQOOEajGzyuF",
        "colab_type": "code",
        "colab": {
          "base_uri": "https://localhost:8080/",
          "height": 85
        },
        "outputId": "cf2d129f-ef07-4976-bfa5-f9053cc7bea6"
      },
      "cell_type": "code",
      "source": [
        "\n",
        "%%time\n",
        "tf = TfidfVectorizer(ngram_range=(1, 2), max_features=100000)\n",
        "X_train_description_sparse = csr_matrix(tf.fit_transform(train[\"description\"]))\n",
        "print(X_train_description_sparse.shape)\n",
        "X_test_description_sparse = csr_matrix(tf.transform(test[\"description\"]))\n",
        "print(X_test_description_sparse.shape)\n"
      ],
      "execution_count": 11,
      "outputs": [
        {
          "output_type": "stream",
          "text": [
            "(120000, 100000)\n",
            "(7600, 100000)\n",
            "CPU times: user 14 s, sys: 292 ms, total: 14.3 s\n",
            "Wall time: 14.3 s\n"
          ],
          "name": "stdout"
        }
      ]
    },
    {
      "metadata": {
        "trusted": true,
        "_uuid": "d7e2ceac57179f8bc0b1f4f5c2c8188ef8b1d11e",
        "id": "OvDH8bfhzyuK",
        "colab_type": "code",
        "colab": {
          "base_uri": "https://localhost:8080/",
          "height": 85
        },
        "outputId": "675ef7f4-1d82-4f00-8560-78eca2f80ead"
      },
      "cell_type": "code",
      "source": [
        "%%time\n",
        "tf = TfidfVectorizer(ngram_range=(1, 2), max_features=100000)\n",
        "X_train_heading_sparse = csr_matrix(tf.fit_transform(train[\"heading\"]))\n",
        "print(X_train_heading_sparse.shape)\n",
        "X_test_heading_sparse = csr_matrix(tf.transform(test[\"heading\"]))\n",
        "print(X_test_heading_sparse.shape)\n"
      ],
      "execution_count": 12,
      "outputs": [
        {
          "output_type": "stream",
          "text": [
            "(120000, 100000)\n",
            "(7600, 100000)\n",
            "CPU times: user 3.98 s, sys: 77.8 ms, total: 4.06 s\n",
            "Wall time: 4.06 s\n"
          ],
          "name": "stdout"
        }
      ]
    },
    {
      "metadata": {
        "trusted": true,
        "_uuid": "cfb0e6363dbdf7fa92de349e263dc6f76aa5efa8",
        "id": "r3vlGGBUzyuQ",
        "colab_type": "code",
        "colab": {
          "base_uri": "https://localhost:8080/",
          "height": 34
        },
        "outputId": "2ce52a0c-08b1-4d99-f6c3-f21893d2f37a"
      },
      "cell_type": "code",
      "source": [
        "# garbage collection\n",
        "import gc\n",
        "print(gc.collect())"
      ],
      "execution_count": 13,
      "outputs": [
        {
          "output_type": "stream",
          "text": [
            "406\n"
          ],
          "name": "stdout"
        }
      ]
    },
    {
      "metadata": {
        "_uuid": "6ac1a417dd3aefda14823f991f5f5390ffea416d",
        "id": "KFNQYj62zyuV",
        "colab_type": "text"
      },
      "cell_type": "markdown",
      "source": [
        "**Join all sparse matrices.**"
      ]
    },
    {
      "metadata": {
        "trusted": true,
        "_uuid": "cb41eedabfd1736e28d85d84e1665e0f5d3a318f",
        "id": "k-15KZfFzyuW",
        "colab_type": "code",
        "colab": {}
      },
      "cell_type": "code",
      "source": [
        "X_train_sparse = hstack([X_train_description_sparse, X_train_heading_sparse]).tocsr()"
      ],
      "execution_count": 0,
      "outputs": []
    },
    {
      "metadata": {
        "trusted": true,
        "_uuid": "c129299fe8ea0394e5210a21337d927e487fa417",
        "id": "QZG0Z578zyua",
        "colab_type": "code",
        "colab": {}
      },
      "cell_type": "code",
      "source": [
        "X_test_sparse = hstack([X_test_description_sparse, X_test_heading_sparse]).tocsr()"
      ],
      "execution_count": 0,
      "outputs": []
    },
    {
      "metadata": {
        "trusted": true,
        "_uuid": "29e5bf9565969cdf370141ca1bdccdf835cc3292",
        "id": "OUvaQzVGzyue",
        "colab_type": "code",
        "colab": {
          "base_uri": "https://localhost:8080/",
          "height": 51
        },
        "outputId": "4c3330a5-d18c-43ec-c96d-3af68214b27f"
      },
      "cell_type": "code",
      "source": [
        "print(X_train_sparse.shape)\n",
        "print(X_test_sparse.shape)"
      ],
      "execution_count": 16,
      "outputs": [
        {
          "output_type": "stream",
          "text": [
            "(120000, 200000)\n",
            "(7600, 200000)\n"
          ],
          "name": "stdout"
        }
      ]
    },
    {
      "metadata": {
        "_uuid": "d1acbf8b158dd8b0cc8e71022ab60e6818cf9c55",
        "id": "wBkz52ANzyur",
        "colab_type": "text"
      },
      "cell_type": "markdown",
      "source": [
        "**Train a  Ridge model along with validation .**"
      ]
    },
    {
      "metadata": {
        "trusted": true,
        "_uuid": "0bf1b1621f509e25e96d9980e543a78932e6b87e",
        "id": "GrTCXbpBzyut",
        "colab_type": "code",
        "colab": {
          "base_uri": "https://localhost:8080/",
          "height": 51
        },
        "outputId": "8b47119e-f7ab-401c-e255-130366bb1e30"
      },
      "cell_type": "code",
      "source": [
        "%%time\n",
        "y_train = train['label'].values\n",
        "ridge = RidgeClassifier()\n",
        "scores = cross_val_score(ridge, X_train_sparse, y_train, cv=5)\n",
        "#ridge.fit(X_train_part_sparse, y_train_part);"
      ],
      "execution_count": 18,
      "outputs": [
        {
          "output_type": "stream",
          "text": [
            "CPU times: user 1min 55s, sys: 72.9 ms, total: 1min 55s\n",
            "Wall time: 1min 55s\n"
          ],
          "name": "stdout"
        }
      ]
    },
    {
      "metadata": {
        "trusted": true,
        "_uuid": "899e6a2c61e6e5ac88529d18b26c37cf061da02b",
        "id": "JkCwed3ezyu0",
        "colab_type": "code",
        "colab": {
          "base_uri": "https://localhost:8080/",
          "height": 34
        },
        "outputId": "1f2574c0-346e-449c-9c46-30021da494ed"
      },
      "cell_type": "code",
      "source": [
        "scores.mean()"
      ],
      "execution_count": 19,
      "outputs": [
        {
          "output_type": "execute_result",
          "data": {
            "text/plain": [
              "0.9068833333333333"
            ]
          },
          "metadata": {
            "tags": []
          },
          "execution_count": 19
        }
      ]
    },
    {
      "metadata": {
        "id": "AAhHcKMU4uFO",
        "colab_type": "text"
      },
      "cell_type": "markdown",
      "source": [
        "** Train the model on the entire dataset. **"
      ]
    },
    {
      "metadata": {
        "trusted": true,
        "_uuid": "e05274fa354e39163cda7a2273e185dbcbd21d0d",
        "id": "4UFRP4uqzyu4",
        "colab_type": "code",
        "colab": {
          "base_uri": "https://localhost:8080/",
          "height": 102
        },
        "outputId": "dc7009d1-59c6-4f8e-b515-d1d0bc18abd7"
      },
      "cell_type": "code",
      "source": [
        "%%time\n",
        "ridge.fit(X_train_sparse, y_train);"
      ],
      "execution_count": 20,
      "outputs": [
        {
          "output_type": "stream",
          "text": [
            "CPU times: user 29.3 s, sys: 8.94 ms, total: 29.3 s\n",
            "Wall time: 29.4 s\n"
          ],
          "name": "stdout"
        },
        {
          "output_type": "execute_result",
          "data": {
            "text/plain": [
              "RidgeClassifier(alpha=1.0, class_weight=None, copy_X=True, fit_intercept=True,\n",
              "        max_iter=None, normalize=False, random_state=None, solver='auto',\n",
              "        tol=0.001)"
            ]
          },
          "metadata": {
            "tags": []
          },
          "execution_count": 20
        }
      ]
    },
    {
      "metadata": {
        "id": "-FK3_xF849WL",
        "colab_type": "text"
      },
      "cell_type": "markdown",
      "source": [
        "** Predict on the test set **"
      ]
    },
    {
      "metadata": {
        "trusted": true,
        "_uuid": "2b027172259b46a8c808324a38b7c34f48513ae6",
        "id": "jhdVHUpozyu-",
        "colab_type": "code",
        "colab": {
          "base_uri": "https://localhost:8080/",
          "height": 51
        },
        "outputId": "1baf04d6-9c01-46d3-8bab-ff73a5aef486"
      },
      "cell_type": "code",
      "source": [
        "%%time\n",
        "ridge_test_pred = ridge.predict(X_test_sparse)"
      ],
      "execution_count": 21,
      "outputs": [
        {
          "output_type": "stream",
          "text": [
            "CPU times: user 15 ms, sys: 0 ns, total: 15 ms\n",
            "Wall time: 14.4 ms\n"
          ],
          "name": "stdout"
        }
      ]
    },
    {
      "metadata": {
        "trusted": true,
        "_uuid": "ab3f686708062a67e41351757214dfa3b51e176e",
        "id": "wmFgwPoOzyvF",
        "colab_type": "code",
        "colab": {
          "base_uri": "https://localhost:8080/",
          "height": 34
        },
        "outputId": "c7b9b7fc-0949-43b3-a154-f689a9571486"
      },
      "cell_type": "code",
      "source": [
        "y_test = test[\"label\"].values\n",
        "print(\"Accuracy Score:  \", accuracy_score(ridge_test_pred, y_test))"
      ],
      "execution_count": 23,
      "outputs": [
        {
          "output_type": "stream",
          "text": [
            "Accuracy Score:   0.9223684210526316\n"
          ],
          "name": "stdout"
        }
      ]
    },
    {
      "metadata": {
        "trusted": true,
        "_uuid": "7949da123d361118a095d4af75391c0418149b93",
        "id": "ijXM2Yh_zyvK",
        "colab_type": "code",
        "colab": {
          "base_uri": "https://localhost:8080/",
          "height": 34
        },
        "outputId": "30c00d39-a537-454e-d7c4-bbfbbf2c45c5"
      },
      "cell_type": "code",
      "source": [
        "print(\"Error Percentage:  \", (1-accuracy_score(ridge_test_pred, y_test))*100)"
      ],
      "execution_count": 24,
      "outputs": [
        {
          "output_type": "stream",
          "text": [
            "Error Percentage:   7.763157894736839\n"
          ],
          "name": "stdout"
        }
      ]
    },
    {
      "metadata": {
        "trusted": true,
        "_uuid": "354341b905194766aa6ec0ef074a7d383b6d0aff",
        "id": "xajJwIzKzyvP",
        "colab_type": "code",
        "colab": {
          "base_uri": "https://localhost:8080/",
          "height": 347
        },
        "outputId": "6d5721e7-1660-4130-d9ca-4f0dad41f8c3"
      },
      "cell_type": "code",
      "source": [
        "plt.hist(y_test, bins=30, alpha=.5, color='red', label='true');\n",
        "plt.hist(ridge_test_pred, bins=30, alpha=.5, color='green', label='pred');\n",
        "plt.legend();"
      ],
      "execution_count": 26,
      "outputs": [
        {
          "output_type": "display_data",
          "data": {
            "image/png": "[encoded data removed]",
            "text/plain": [
              "<matplotlib.figure.Figure at 0x7f03819b9208>"
            ]
          },
          "metadata": {
            "tags": []
          }
        }
      ]
    },
    {
      "metadata": {
        "id": "KIg2kSRj5YuF",
        "colab_type": "text"
      },
      "cell_type": "markdown",
      "source": [
        "** Classification Report **"
      ]
    },
    {
      "metadata": {
        "trusted": true,
        "_uuid": "f0038a8430f89c8173c748532e3cd9d96f16379d",
        "id": "2sa9PAEUzyvT",
        "colab_type": "code",
        "colab": {
          "base_uri": "https://localhost:8080/",
          "height": 170
        },
        "outputId": "d68f63f0-d40b-4ccd-ac3e-340506921700"
      },
      "cell_type": "code",
      "source": [
        "target_names = ['World', 'Sports', 'Business', 'Sci/Tech']\n",
        "print(classification_report(y_test, ridge_test_pred, target_names=target_names))"
      ],
      "execution_count": 27,
      "outputs": [
        {
          "output_type": "stream",
          "text": [
            "             precision    recall  f1-score   support\n",
            "\n",
            "      World       0.94      0.91      0.92      1900\n",
            "     Sports       0.95      0.98      0.97      1900\n",
            "   Business       0.89      0.89      0.89      1900\n",
            "   Sci/Tech       0.90      0.91      0.90      1900\n",
            "\n",
            "avg / total       0.92      0.92      0.92      7600\n",
            "\n"
          ],
          "name": "stdout"
        }
      ]
    }
  ]
}